{
 "cells": [
  {
   "cell_type": "code",
   "execution_count": 1,
   "metadata": {
    "collapsed": true
   },
   "outputs": [],
   "source": [
    "# add all the imports\n",
    "from __future__ import print_function\n",
    "\n",
    "import argparse\n",
    "from datetime import datetime\n",
    "import os\n",
    "import sys\n",
    "import time\n",
    "\n",
    "import tensorflow as tf\n",
    "import numpy as np"
   ]
  },
  {
   "cell_type": "code",
   "execution_count": 2,
   "metadata": {
    "collapsed": true
   },
   "outputs": [],
   "source": [
    "# import models from deeplab_resnet\n",
    "from deeplab_resnet import DeepLabResNetModel, ImageReader, decode_labels, inv_preprocess, prepare_label"
   ]
  },
  {
   "cell_type": "code",
   "execution_count": 3,
   "metadata": {
    "collapsed": true
   },
   "outputs": [],
   "source": [
    "# some parameteres setting:\n",
    "IMG_MEAN = np.array((104.00698793,116.66876762,122.67891434), dtype=np.float32)\n",
    "\n",
    "BATCH_SIZE = 2 #10\n",
    "DATA_DIRECTORY = '/data/VOC_dataset/voc2012_trainval'\n",
    "DATA_LIST_PATH = './dataset/train.txt'\n",
    "IGNORE_LABEL = 255\n",
    "INPUT_SIZE = '321,321'\n",
    "LEARNING_RATE = 2.5e-4\n",
    "MOMENTUM = 0.9\n",
    "NUM_CLASSES = 21\n",
    "NUM_STEPS = 20001\n",
    "POWER = 0.9\n",
    "RANDOM_SEED = 1234\n",
    "RESTORE_FROM = './deeplab_resnet.ckpt'\n",
    "SAVE_NUM_IMAGES = 2\n",
    "SAVE_PRED_EVERY = 1000\n",
    "SNAPSHOT_DIR = './snapshots/'\n",
    "WEIGHT_DECAY = 0.0005"
   ]
  },
  {
   "cell_type": "markdown",
   "metadata": {},
   "source": [
    "### Create the model and start the training..."
   ]
  },
  {
   "cell_type": "code",
   "execution_count": 4,
   "metadata": {
    "collapsed": true
   },
   "outputs": [],
   "source": [
    "# setting\n",
    "input_size = (321,321)\n",
    "tf.set_random_seed(RANDOM_SEED)"
   ]
  },
  {
   "cell_type": "code",
   "execution_count": 5,
   "metadata": {
    "collapsed": true
   },
   "outputs": [],
   "source": [
    "# Create queue coordinator.\n",
    "coord = tf.train.Coordinator()"
   ]
  },
  {
   "cell_type": "code",
   "execution_count": 6,
   "metadata": {
    "collapsed": true
   },
   "outputs": [],
   "source": [
    "with tf.name_scope(\"create_inputs\"):\n",
    "    reader = ImageReader(\n",
    "        DATA_DIRECTORY,\n",
    "        DATA_LIST_PATH,\n",
    "        input_size,\n",
    "        True,\n",
    "        True,\n",
    "        IGNORE_LABEL,\n",
    "        IMG_MEAN,\n",
    "        coord)\n",
    "    image_batch, label_batch = reader.dequeue(BATCH_SIZE)"
   ]
  },
  {
   "cell_type": "code",
   "execution_count": 7,
   "metadata": {},
   "outputs": [
    {
     "name": "stdout",
     "output_type": "stream",
     "text": [
      "(2, 321, 321, 3)\n"
     ]
    }
   ],
   "source": [
    "print(image_batch.shape)"
   ]
  },
  {
   "cell_type": "code",
   "execution_count": 10,
   "metadata": {},
   "outputs": [
    {
     "name": "stdout",
     "output_type": "stream",
     "text": [
      "<class 'tensorflow.python.framework.ops.Tensor'>\n"
     ]
    }
   ],
   "source": [
    "print(type(image_batch))"
   ]
  },
  {
   "cell_type": "code",
   "execution_count": 11,
   "metadata": {},
   "outputs": [
    {
     "name": "stdout",
     "output_type": "stream",
     "text": [
      "(2, 321, 321, 1)\n"
     ]
    }
   ],
   "source": [
    "print(label_batch.shape)"
   ]
  },
  {
   "cell_type": "code",
   "execution_count": 14,
   "metadata": {},
   "outputs": [],
   "source": [
    "# Create network.\n",
    "net = DeepLabResNetModel({'data': image_batch}, is_training=True, num_classes=NUM_CLASSES)\n",
    "# For a small batch size, it is better to keep \n",
    "# the statistics of the BN layers (running means and variances)\n",
    "# frozen, and to not update the values provided by the pre-trained model. \n",
    "# If is_training=True, the statistics will be updated during the training.\n",
    "# Note that is_training=False still updates BN parameters gamma (scale) and beta (offset)\n",
    "# if they are presented in var_list of the optimiser definition."
   ]
  },
  {
   "cell_type": "code",
   "execution_count": null,
   "metadata": {
    "collapsed": true
   },
   "outputs": [],
   "source": [
    "# Predictions.\n",
    "raw_output = net.layers['fc1_voc12']\n",
    "# Which variables to load. Running means and variances are not trainable,\n",
    "# thus all_variables() should be restored.\n",
    "restore_var = [v for v in tf.global_variables() if 'fc' not in v.name or not args.not_restore_last]\n",
    "all_trainable = [v for v in tf.trainable_variables() if 'beta' not in v.name and 'gamma' not in v.name]\n",
    "fc_trainable = [v for v in all_trainable if 'fc' in v.name]\n",
    "conv_trainable = [v for v in all_trainable if 'fc' not in v.name] # lr * 1.0\n",
    "fc_w_trainable = [v for v in fc_trainable if 'weights' in v.name] # lr * 10.0\n",
    "fc_b_trainable = [v for v in fc_trainable if 'biases' in v.name] # lr * 20.0\n",
    "assert(len(all_trainable) == len(fc_trainable) + len(conv_trainable))\n",
    "assert(len(fc_trainable) == len(fc_w_trainable) + len(fc_b_trainable))"
   ]
  }
 ],
 "metadata": {
  "kernelspec": {
   "display_name": "Python 2",
   "language": "python",
   "name": "python2"
  },
  "language_info": {
   "codemirror_mode": {
    "name": "ipython",
    "version": 2
   },
   "file_extension": ".py",
   "mimetype": "text/x-python",
   "name": "python",
   "nbconvert_exporter": "python",
   "pygments_lexer": "ipython2",
   "version": "2.7.13"
  },
  "widgets": {
   "state": {},
   "version": "1.1.2"
  }
 },
 "nbformat": 4,
 "nbformat_minor": 2
}
