{
 "cells": [
  {
   "cell_type": "markdown",
   "metadata": {},
   "source": [
    "### TensorFlow-Slim - Variables"
   ]
  },
  {
   "cell_type": "markdown",
   "metadata": {},
   "source": [
    "Some variables related functions\n",
    "\n",
    "slim.variable\n",
    "\n",
    "slim.model_variable\n",
    "\n",
    "slim.local_variable\n",
    "\n",
    "slim.get_or_create_global_step\n",
    "\n",
    "slim.get_variables\n",
    "\n",
    "slim.get_model_variables\n",
    "\n",
    "slim.get_local_variables\n",
    "\n",
    "slim.get_global_step"
   ]
  },
  {
   "cell_type": "code",
   "execution_count": 1,
   "metadata": {
    "collapsed": true
   },
   "outputs": [],
   "source": [
    "# import tensorflow and tf.slim\n",
    "import tensorflow as tf\n",
    "slim = tf.contrib.slim"
   ]
  },
  {
   "cell_type": "markdown",
   "metadata": {},
   "source": [
    "## Defining Variables with Native TensorFlow\n",
    "\n",
    "Example of defining different variable types with regular Tensorflow"
   ]
  },
  {
   "cell_type": "code",
   "execution_count": 2,
   "metadata": {
    "collapsed": true
   },
   "outputs": [],
   "source": [
    "# Initialize graph\n",
    "g = tf.Graph()\n",
    "with g.as_default():\n",
    "\n",
    "    # Global variable\n",
    "    global_step = tf.Variable(tf.constant(value=1, shape=[], dtype=tf.int32),\n",
    "                              trainable=False,\n",
    "                              name=\"global_step\",\n",
    "                              collections=[\"global_variables\"])\n",
    "\n",
    "    # Start variable scope\n",
    "    with tf.variable_scope(\"TF-Native\"):\n",
    "        # Pin variables to CPU.\n",
    "        with tf.device(\"/cpu:0\"):\n",
    "            \n",
    "            # Model variable\n",
    "            weights = tf.Variable(trainable=True,\n",
    "                                  name=\"weights\",\n",
    "                                  initial_value=tf.truncated_normal([3, 3, 64, 128],\n",
    "                                                                    stddev=0.1,\n",
    "                                                                    dtype=tf.float32),\n",
    "                                  collections=[\"model_variables\"])\n",
    "            # Model variable\n",
    "            biases = tf.Variable(tf.constant(0.0, shape=[128], dtype=tf.float32),\n",
    "                                 trainable=True,\n",
    "                                 name=\"biases\",\n",
    "                                 collections=[\"model_variables\"])\n",
    "\n",
    "            # regularization loss on model parameters\n",
    "            regularizers = (tf.nn.l2_loss(weights) + tf.nn.l2_loss(biases))\n",
    "\n",
    "            # Trainable regular variable\n",
    "            predictions = tf.Variable(tf.constant(0.0, shape=[32, 10], dtype=tf.float32),\n",
    "                                      trainable=True,\n",
    "                                      name=\"predictions\",\n",
    "                                      collections=[\"trainable_variables\"])\n",
    "            # Local variable\n",
    "            accuracy = tf.Variable(tf.constant(0.0, shape=[], dtype=tf.float32),\n",
    "                                   trainable=False,\n",
    "                                   name=\"accuracy\",\n",
    "                                   collections=[\"local_variables\"])"
   ]
  },
  {
   "cell_type": "code",
   "execution_count": 4,
   "metadata": {},
   "outputs": [],
   "source": [
    "#helper tool\n",
    "\n",
    "from tf_slim.Chapter2.utils.pretty_printer import inspect_variables, inspect_layers"
   ]
  },
  {
   "cell_type": "markdown",
   "metadata": {},
   "source": [
    "### Inspect Name Space"
   ]
  },
  {
   "cell_type": "code",
   "execution_count": 5,
   "metadata": {},
   "outputs": [
    {
     "name": "stdout",
     "output_type": "stream",
     "text": [
      "Variables:\n",
      "name = global_step:0                                           shape = ()\n",
      "name = TF-Native/weights:0                                     shape = (3, 3, 64, 128)\n",
      "name = TF-Native/biases:0                                      shape = (128,)\n",
      "name = TF-Native/predictions:0                                 shape = (32, 10)\n",
      "name = TF-Native/accuracy:0                                    shape = ()\n",
      "\n"
     ]
    }
   ],
   "source": [
    "with g.as_default():\n",
    "    print(\"Variables:\")\n",
    "    inspect_variables([global_step, weights, biases, predictions, accuracy])"
   ]
  },
  {
   "cell_type": "code",
   "execution_count": null,
   "metadata": {
    "collapsed": true
   },
   "outputs": [],
   "source": []
  }
 ],
 "metadata": {
  "kernelspec": {
   "display_name": "Python 3",
   "language": "python",
   "name": "python3"
  },
  "language_info": {
   "codemirror_mode": {
    "name": "ipython",
    "version": 3
   },
   "file_extension": ".py",
   "mimetype": "text/x-python",
   "name": "python",
   "nbconvert_exporter": "python",
   "pygments_lexer": "ipython3",
   "version": "3.5.2"
  },
  "widgets": {
   "state": {},
   "version": "1.1.2"
  }
 },
 "nbformat": 4,
 "nbformat_minor": 2
}
